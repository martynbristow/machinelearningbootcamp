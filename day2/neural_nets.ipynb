{
 "cells": [
  {
   "cell_type": "markdown",
   "metadata": {},
   "source": [
    "# Neural Networks \n",
    "\n",
    "\n",
    "\n",
    "## The Perceptron\n",
    "\n",
    "\n",
    "To get an intuitive idea about Neural Networks, let us code an elementary perceptron. In this example we will illustrate some of the concepts we have seen, build a small perceptron and make a link between Perceptron and linear classification.\n",
    "\n",
    "### Learning Activity 1: Generating some data\n",
    "\n",
    "Before working with the MNIST dataset, you'll first test your perceptron implementation on a \"toy\" dataset with just a few data points. This allows you to test your implementations with data you can easily inspect and visualise without getting lost in the complexities of the dataset itself.\n",
    "\n",
    "\n",
    "Start by loading two basic libraries: `matplotlib` for plotting graphs (http://matplotlib.org/contents.html) and `numpy` for numerical computing with vectors, matrices, etc. (http://docs.scipy.org/doc/).\n",
    "\n"
   ]
  },
  {
   "cell_type": "code",
   "execution_count": 3,
   "metadata": {
    "collapsed": true
   },
   "outputs": [],
   "source": [
    "# Load the libraries\n",
    "\n",
    "import matplotlib.pyplot as plt\n",
    "import numpy as np\n",
    "pl=plt\n",
    "%matplotlib inline  "
   ]
  },
  {
   "cell_type": "markdown",
   "metadata": {},
   "source": [
    "Then let us generate some points in 2-D that will form our dataset:"
   ]
  },
  {
   "cell_type": "code",
   "execution_count": 43,
   "metadata": {
    "collapsed": false
   },
   "outputs": [],
   "source": [
    "# Create some data points using np.array([[x1, y1], [x2, y2], ... for arbitrary xi,yi\n",
    "I = range(0, 101, 1)\n",
    "X = np.array(I)\n",
    "Y = [np.random.poisson(i, 1)[0] for i in I]\n",
    "Y_1 = np.array(zip(X,Y))\n",
    "Y_2 = np.array(zip(X,[i**2 for i in Y]))"
   ]
  },
  {
   "cell_type": "markdown",
   "metadata": {},
   "source": [
    "Let's visualise these points in a scatterplot using the `plot` function from `matplotlib`"
   ]
  },
  {
   "cell_type": "code",
   "execution_count": 30,
   "metadata": {
    "collapsed": false
   },
   "outputs": [
    {
     "data": {
      "text/plain": [
       "[<matplotlib.lines.Line2D at 0x7f6f9f10bed0>,\n",
       " <matplotlib.lines.Line2D at 0x7f6f9f0d5310>]"
      ]
     },
     "execution_count": 30,
     "metadata": {},
     "output_type": "execute_result"
    },
    {
     "data": {
      "image/png": "[encoded data removed]",
      "text/plain": [
       "<matplotlib.figure.Figure at 0x7f6f9f10bdd0>"
      ]
     },
     "metadata": {},
     "output_type": "display_data"
    }
   ],
   "source": [
    "# Visualise the points in a scatterplot using plot\n",
    "pl.plot(X,Y_1,'rx')\n",
    "pl.plot(X,Y_2,'bo')"
   ]
  },
  {
   "cell_type": "code",
   "execution_count": 31,
   "metadata": {
    "collapsed": true
   },
   "outputs": [],
   "source": [
    "crosses = np.array([[0.5, 1],[1, 1.5],[1.5, 1.5],[2,1.2],[3,1.7],[1.5,1.1],[2.1,1.7]])\n",
    "circles = np.array([[3, 0.5],[4,1],[5,0.7],[4,0.2],[5.1,0.3],[4.2,0.7]])"
   ]
  },
  {
   "cell_type": "code",
   "execution_count": 53,
   "metadata": {
    "collapsed": false
   },
   "outputs": [
    {
     "data": {
      "text/plain": [
       "(0, 6)"
      ]
     },
     "execution_count": 53,
     "metadata": {},
     "output_type": "execute_result"
    },
    {
     "data": {
      "image/png": "[encoded data removed]",
      "text/plain": [
       "<matplotlib.figure.Figure at 0x7f6f9f0e2290>"
      ]
     },
     "metadata": {},
     "output_type": "display_data"
    }
   ],
   "source": [
    "plt.plot(crosses[:,0],crosses[:,1],marker='x',linestyle='none')\n",
    "plt.plot(circles[:,0],circles[:,1],marker='o',linestyle='none')\n",
    "plt.ylim((0,2))\n",
    "plt.xlim((0,6))"
   ]
  },
  {
   "cell_type": "markdown",
   "metadata": {},
   "source": [
    "\n",
    "Here, imagine that the purpose is to build a classifier that for a given **new** point will return whether it belongs to the crosses (class 1) or circles (class 0).\n",
    "\n",
    "### Learning Activity 2: Computing the output of a Perceptron\n",
    "\n",
    "Let’s now define a function which returns the output of a Perceptron for a single input point.\n"
   ]
  },
  {
   "cell_type": "code",
   "execution_count": 33,
   "metadata": {
    "collapsed": true
   },
   "outputs": [],
   "source": [
    "# Now let's build a perceptron for our points\n",
    "\n",
    "def outPerceptron(x, w, b):\n",
    "    innerProd = np.dot(x, w)    # computes the weighted sum of input\n",
    "    output    = 0\n",
    "    if innerProd > b:\n",
    "        output = 1\n",
    "    return output"
   ]
  },
  {
   "cell_type": "markdown",
   "metadata": {},
   "source": [
    "It’s useful to define a function which returns the sequence of outputs of the Perceptron for a sequence\n",
    "of input points:"
   ]
  },
  {
   "cell_type": "code",
   "execution_count": 34,
   "metadata": {
    "collapsed": true
   },
   "outputs": [],
   "source": [
    "# Define a function which returns the sequence of outputs for a sequence of input points\n",
    "\n",
    "def multiOutPerceptron(X,w,b):\n",
    "    nInstances = X.shape[0]\n",
    "    outputs    = np.zeros(nInstances)\n",
    "    for i in range(0,nInstances):\n",
    "        outputs[i] = outPerceptron(X[i,:],w,b)\n",
    "    return outputs"
   ]
  },
  {
   "cell_type": "markdown",
   "metadata": {},
   "source": [
    "### Bonus Activity: Efficient coding of multiOutPerceptron\n",
    "\n",
    "In the above implementation, the simple `outPerceptron` function is called for every single instance. It\n",
    "is cleaner and more efficient to code everything in one function using matrices:"
   ]
  },
  {
   "cell_type": "code",
   "execution_count": 36,
   "metadata": {
    "collapsed": true
   },
   "outputs": [],
   "source": [
    "# Optimise/simplify the multiOutPerceptron function\n",
    "def multiOutPerceptron2(X,w,b):\n",
    "    return (np.dot(X,w) > b).astype(float)"
   ]
  },
  {
   "cell_type": "markdown",
   "metadata": {},
   "source": [
    "\n",
    "In the above implementation, the simple `outPerceptron` function is called for every single instance. It is cleaner and more efficient to code everything in one function using matrices.\n",
    "\n",
    "### Learning Activity 4: Playing with weights and thresholds\n",
    "\n",
    "Let’s try some weights and thresholds, and see what happens:"
   ]
  },
  {
   "cell_type": "code",
   "execution_count": 45,
   "metadata": {
    "collapsed": false
   },
   "outputs": [
    {
     "name": "stdout",
     "output_type": "stream",
     "text": [
      "((101,), (101, 2), (101, 2), (202, 2))\n",
      "[ 0.  1.  1.  1.  1.  1.  1.  1.  1.  1.  1.  1.  1.  1.  1.  1.  1.  1.\n",
      "  1.  1.  1.  1.  1.  1.  1.  1.  1.  1.  1.  1.  1.  1.  1.  1.  1.  1.\n",
      "  1.  1.  1.  1.  1.  1.  1.  1.  1.  1.  1.  1.  1.  1.  1.  1.  1.  1.\n",
      "  1.  1.  1.  1.  1.  1.  1.  1.  1.  1.  1.  1.  1.  1.  1.  1.  1.  1.\n",
      "  1.  1.  1.  1.  1.  1.  1.  1.  1.  1.  1.  1.  1.  1.  1.  1.  1.  1.\n",
      "  1.  1.  1.  1.  1.  1.  1.  1.  1.  1.  1.  0.  1.  1.  1.  1.  1.  1.\n",
      "  1.  1.  1.  1.  1.  1.  1.  1.  1.  1.  1.  1.  1.  1.  1.  1.  1.  1.\n",
      "  1.  1.  1.  1.  1.  1.  1.  1.  1.  1.  1.  1.  1.  1.  1.  1.  1.  1.\n",
      "  1.  1.  1.  1.  1.  1.  1.  1.  1.  1.  1.  1.  1.  1.  1.  1.  1.  1.\n",
      "  1.  1.  1.  1.  1.  1.  1.  1.  1.  1.  1.  1.  1.  1.  1.  1.  1.  1.\n",
      "  1.  1.  1.  1.  1.  1.  1.  1.  1.  1.  1.  1.  1.  1.  1.  1.  1.  1.\n",
      "  1.  1.  1.  1.]\n",
      "[ 0.  1.  1.  1.  1.  1.  1.  1.  1.  1.  1.  1.  1.  1.  1.  1.  1.  1.\n",
      "  1.  1.  1.  1.  1.  1.  1.  1.  1.  1.  1.  1.  1.  1.  1.  1.  1.  1.\n",
      "  1.  1.  1.  1.  1.  1.  1.  1.  1.  1.  1.  1.  1.  1.  1.  1.  1.  1.\n",
      "  1.  1.  1.  1.  1.  1.  1.  1.  1.  1.  1.  1.  1.  1.  1.  1.  1.  1.\n",
      "  1.  1.  1.  1.  1.  1.  1.  1.  1.  1.  1.  1.  1.  1.  1.  1.  1.  1.\n",
      "  1.  1.  1.  1.  1.  1.  1.  1.  1.  1.  1.  0.  1.  1.  1.  1.  1.  1.\n",
      "  1.  1.  1.  1.  1.  1.  1.  1.  1.  1.  1.  1.  1.  1.  1.  1.  1.  1.\n",
      "  1.  1.  1.  1.  1.  1.  1.  1.  1.  1.  1.  1.  1.  1.  1.  1.  1.  1.\n",
      "  1.  1.  1.  1.  1.  1.  1.  1.  1.  1.  1.  1.  1.  1.  1.  1.  1.  1.\n",
      "  1.  1.  1.  1.  1.  1.  1.  1.  1.  1.  1.  1.  1.  1.  1.  1.  1.  1.\n",
      "  1.  1.  1.  1.  1.  1.  1.  1.  1.  1.  1.  1.  1.  1.  1.  1.  1.  1.\n",
      "  1.  1.  1.  1.]\n"
     ]
    }
   ],
   "source": [
    "test_w1 = [1,1]\n",
    "test_b1 = 1\n",
    "instances = np.concatenate((Y_1, Y_2),axis=0)\n",
    "\n",
    "print(X.shape, Y_1.shape, Y_2.shape, instances.shape)\n",
    "print(multiOutPerceptron(instances, test_w1, test_b1))\n",
    "print(multiOutPerceptron2(instances, test_w1, test_b1))"
   ]
  },
  {
   "cell_type": "code",
   "execution_count": 48,
   "metadata": {
    "collapsed": false
   },
   "outputs": [
    {
     "name": "stdout",
     "output_type": "stream",
     "text": [
      "((7, 2), (6, 2), (13, 2))\n",
      "[ 1.  1.  1.  1.  1.  1.  1.  1.  1.  1.  1.  1.  1.]\n"
     ]
    }
   ],
   "source": [
    "# Try entering some initial weights and thresholds in the multiOutPerceptron and check the output\n",
    "test_w1 = [1,1]\n",
    "test_b1 = 1\n",
    "instances = np.concatenate((crosses, circles),axis=0)\n",
    "\n",
    "print(crosses.shape, circles.shape, instances.shape)\n",
    "print(multiOutPerceptron(instances, test_w1,test_b1))"
   ]
  },
  {
   "cell_type": "code",
   "execution_count": 52,
   "metadata": {
    "collapsed": false
   },
   "outputs": [
    {
     "name": "stdout",
     "output_type": "stream",
     "text": [
      "[ 1.  1.  1.  1.  1.  1.  1.  0.  0.  0.  0.  0.  0.]\n"
     ]
    }
   ],
   "source": [
    "test_w2 = [-0.5,1]\n",
    "test_b2 = -0.2\n",
    "instances = np.concatenate((crosses, circles),axis=0)\n",
    "print(multiOutPerceptron(instances,test_w2,test_b2))\n"
   ]
  },
  {
   "cell_type": "markdown",
   "metadata": {},
   "source": [
    "Assuming you've chosen the weight/threshold at random you should get a rather poor classification of your points. Let's try something else (an educated guess this time) [Assuming now we are considering the following set of points]"
   ]
  },
  {
   "cell_type": "code",
   "execution_count": null,
   "metadata": {
    "collapsed": false
   },
   "outputs": [],
   "source": [
    "crosses = np.array([[0.5, 1], [1, 1.5], [1.5, 1.5], [2,1.2],[3,1.7],[1.5,1.1],[2.1,1.7]])\n",
    "circles = np.array([[3, 0.5], [4,1], [5,0.7],[4,0.2],[5.1,0.3],[4.2,0.7]])\n",
    "instances = np.concatenate((crosses,circles),axis=0)"
   ]
  },
  {
   "cell_type": "code",
   "execution_count": 55,
   "metadata": {
    "collapsed": false
   },
   "outputs": [
    {
     "data": {
      "text/plain": [
       "[(array([ 0.5,  1. ]), 0.75),\n",
       " (array([ 1. ,  1.5]), 1.0),\n",
       " (array([ 1.5,  1.5]), 0.75),\n",
       " (array([ 2. ,  1.2]), 0.19999999999999996),\n",
       " (array([ 3. ,  1.7]), 0.19999999999999996),\n",
       " (array([ 1.5,  1.1]), 0.35000000000000009),\n",
       " (array([ 2.1,  1.7]), 0.64999999999999991)]"
      ]
     },
     "execution_count": 55,
     "metadata": {},
     "output_type": "execute_result"
    }
   ],
   "source": [
    "zip(crosses, np.dot(crosses, test_w2))"
   ]
  },
  {
   "cell_type": "code",
   "execution_count": null,
   "metadata": {
    "collapsed": true
   },
   "outputs": [],
   "source": [
    "np.dot(crosses, test_w2) > b"
   ]
  },
  {
   "cell_type": "code",
   "execution_count": null,
   "metadata": {
    "collapsed": false
   },
   "outputs": [],
   "source": [
    "# Try an \"educated guess\""
   ]
  },
  {
   "cell_type": "markdown",
   "metadata": {},
   "source": [
    "This is much better! To obtain these values, we found a **separating hyperplane** (here a line) between the points. The equation of the line is \n",
    "\n",
    "y = 0.5x-0.2\n",
    "\n",
    "\n",
    "**Quiz**\n",
    "- **Can you explain why this line corresponds to the weights and bias we used?**\n",
    "- **Is this separating line unique? what does it mean?**\n",
    "\n",
    "Can you check that the perceptron will indeed classify any point above the red line as a 1 (cross) and every point below as a 0 (circle)?\n"
   ]
  },
  {
   "cell_type": "markdown",
   "metadata": {},
   "source": [
    "### Learning Activity 5: Illustration of the output of the Perceptron and the separating line\n"
   ]
  },
  {
   "cell_type": "code",
   "execution_count": 56,
   "metadata": {
    "collapsed": false
   },
   "outputs": [
    {
     "data": {
      "text/plain": [
       "(0, 6)"
      ]
     },
     "execution_count": 56,
     "metadata": {},
     "output_type": "execute_result"
    },
    {
     "data": {
      "image/png": "[encoded data removed]",
      "text/plain": [
       "<matplotlib.figure.Figure at 0x7f6f9f03d290>"
      ]
     },
     "metadata": {},
     "output_type": "display_data"
    }
   ],
   "source": [
    "# Visualise the separating line\n",
    "xx  = np.linspace(0,6)\n",
    "yy1 = 0.5*xx-0.2\n",
    "yy2 = 0.4*xx-0.3\n",
    "\n",
    "plt.plot(xx,yy1,color='red')\n",
    "plt.plot(xx,yy2,color='orange')\n",
    "plt.plot(crosses[:,0],crosses[:,1],marker='x',linestyle='none')\n",
    "plt.plot(circles[:,0],circles[:,1],marker='o',linestyle='none')\n",
    "plt.ylim((0,2))\n",
    "plt.xlim((0,6))"
   ]
  },
  {
   "cell_type": "markdown",
   "metadata": {},
   "source": [
    "Now try adding the following points to see how they are classified:"
   ]
  },
  {
   "cell_type": "code",
   "execution_count": 57,
   "metadata": {
    "collapsed": false
   },
   "outputs": [
    {
     "name": "stdout",
     "output_type": "stream",
     "text": [
      "[ 1.  0.  0.]\n",
      "[ 1.  0.  1.]\n"
     ]
    },
    {
     "data": {
      "text/plain": [
       "[<matplotlib.lines.Line2D at 0x7f6f9ee65210>]"
      ]
     },
     "execution_count": 57,
     "metadata": {},
     "output_type": "execute_result"
    },
    {
     "data": {
      "image/png": "[encoded data removed]",
      "text/plain": [
       "<matplotlib.figure.Figure at 0x7f6f9f1c7850>"
      ]
     },
     "metadata": {},
     "output_type": "display_data"
    }
   ],
   "source": [
    "test_w3 = [-0.4,1]\n",
    "test_b3 = -0.3\n",
    "testPoints = np.array([[1,0.5],[5,1.5],[3,1]])\n",
    "print(multiOutPerceptron(testPoints,test_w2,test_b2))\n",
    "print(multiOutPerceptron(testPoints,test_w3,test_b3))\n",
    "\n",
    "# visualise\n",
    "plt.plot(xx,yy1,color='red')\n",
    "plt.plot(xx,yy2,color='orange')\n",
    "plt.plot(crosses[:,0],crosses[:,1],marker='x',linestyle='none')\n",
    "plt.plot(circles[:,0],circles[:,1],marker='o',linestyle='none')\n",
    "plt.ylim((0,2))\n",
    "plt.xlim((0,6))\n",
    "\n",
    "# the points\n",
    "plt.plot(1,0.5,marker='s',color='blue',markersize=10)\n",
    "plt.plot(5,1.5,marker='s',color='green',markersize=10)\n",
    "plt.plot(3,1.1,marker='^',color='black',markersize=10)"
   ]
  },
  {
   "cell_type": "markdown",
   "metadata": {},
   "source": [
    "Visualise the new test points in the graph and plot the separating lines."
   ]
  },
  {
   "cell_type": "code",
   "execution_count": null,
   "metadata": {
    "collapsed": false
   },
   "outputs": [],
   "source": [
    "# Visualise the new points and line"
   ]
  },
  {
   "cell_type": "markdown",
   "metadata": {},
   "source": [
    "\n",
    "Note here that the two sets of parameters classify the squares identically but not the triangle. You can now ask yourself, which one of the two sets of parameters makes more sense? How would you classify that triangle? These type of points are frequent in realistic datasets and the question of how to classify them \"accurately\" is often very hard to answer...\n"
   ]
  },
  {
   "cell_type": "markdown",
   "metadata": {},
   "source": [
    "# Gradient Descent\n",
    "\n",
    "### Learning Activity 6: Coding a simple gradient descent"
   ]
  },
  {
   "cell_type": "markdown",
   "metadata": {},
   "source": [
    "Definition of a function and it's gradient"
   ]
  },
  {
   "cell_type": "markdown",
   "metadata": {},
   "source": [
    "$f(x) = \\exp(-\\sin(x))x^2$"
   ]
  },
  {
   "cell_type": "markdown",
   "metadata": {},
   "source": [
    "$f'(x) = -x \\exp(-\\sin(x)) (x\\cos(x)-2)$"
   ]
  },
  {
   "cell_type": "markdown",
   "metadata": {},
   "source": [
    "It is convenient to define python functions which return the value of the function and its gradient at an arbitrary point $x$"
   ]
  },
  {
   "cell_type": "code",
   "execution_count": 63,
   "metadata": {
    "collapsed": true
   },
   "outputs": [],
   "source": [
    "def function(x):\n",
    "    return np.exp(-np.sin(x))*(x**2)\n",
    "\n",
    "def gradient(x):\n",
    "    return -x*np.exp(-np.sin(x))*(x*np.cos(x)-2) # use wolfram alpha!"
   ]
  },
  {
   "cell_type": "markdown",
   "metadata": {},
   "source": [
    "Let's see what the function looks like"
   ]
  },
  {
   "cell_type": "code",
   "execution_count": 71,
   "metadata": {
    "collapsed": false
   },
   "outputs": [
    {
     "data": {
      "text/plain": [
       "[<matplotlib.lines.Line2D at 0x7f6f9eff9390>]"
      ]
     },
     "execution_count": 71,
     "metadata": {},
     "output_type": "execute_result"
    },
    {
     "data": {
      "image/png": "[encoded data removed]",
      "text/plain": [
       "<matplotlib.figure.Figure at 0x7f6f9e9eb890>"
      ]
     },
     "metadata": {},
     "output_type": "display_data"
    }
   ],
   "source": [
    "# Visualise the function \n",
    "data_x = np.linspace(-10,10,100)\n",
    "pl.plot(data_x, data_x, 'r.')\n",
    "pl.plot(data_x, map(function, data_x), 'b.')\n",
    "pl.plot(data_x, map(gradient, data_x), 'g.')"
   ]
  },
  {
   "cell_type": "markdown",
   "metadata": {},
   "source": [
    "Now let us implement a simple Gradient Descent that uses constant stepsizes. We define two functions, the first one is the most simple version which doesn't store the intermediate steps that are taken. The second one does store the steps which is useful to visualize what is going on and explain some of the typical behaviour of GD."
   ]
  },
  {
   "cell_type": "code",
   "execution_count": 102,
   "metadata": {
    "collapsed": true
   },
   "outputs": [],
   "source": [
    "def simpleGD(x0, stepsize, nsteps):\n",
    "    x    = x0\n",
    "    for k in range(0,nsteps):\n",
    "        x -= stepsize*gradient(x)\n",
    "    return x\n",
    "\n",
    "def _simpleGD(x0,stepsize,nsteps):\n",
    "    x    = x0\n",
    "    for k in xrange(0,nsteps):\n",
    "        x -= stepsize*gradient(x)\n",
    "        yield x\n",
    "\n",
    "def simpleGD2(x0,stepsize,nsteps):\n",
    "    x    = np.zeros(nsteps+1)\n",
    "    x[0] = x0\n",
    "    for k in range(0,nsteps):\n",
    "        x[k+1] = x[k]-stepsize*gradient(x[k])\n",
    "    return x"
   ]
  },
  {
   "cell_type": "markdown",
   "metadata": {},
   "source": [
    "Let's see what it looks like. Let's start from $x_0 = 3$, use a (constant) stepsize of $\\delta=0.1$ and let's go for 100 steps."
   ]
  },
  {
   "cell_type": "code",
   "execution_count": 103,
   "metadata": {
    "collapsed": false
   },
   "outputs": [
    {
     "data": {
      "text/plain": [
       "1.5831079987538766e-08"
      ]
     },
     "execution_count": 103,
     "metadata": {},
     "output_type": "execute_result"
    }
   ],
   "source": [
    "# Try the first given values \n",
    "simpleGD(3, 0.1, 100)"
   ]
  },
  {
   "cell_type": "code",
   "execution_count": 107,
   "metadata": {
    "collapsed": false
   },
   "outputs": [
    {
     "data": {
      "text/plain": [
       "[<matplotlib.lines.Line2D at 0x7f6f9e34f7d0>]"
      ]
     },
     "execution_count": 107,
     "metadata": {},
     "output_type": "execute_result"
    },
    {
     "data": {
      "image/png": "[encoded data removed]",
      "text/plain": [
       "<matplotlib.figure.Figure at 0x7f6f9e63fb90>"
      ]
     },
     "metadata": {},
     "output_type": "display_data"
    }
   ],
   "source": [
    "pl.plot(simpleGD2(7, 0.1, 100))"
   ]
  },
  {
   "cell_type": "code",
   "execution_count": 86,
   "metadata": {
    "collapsed": false
   },
   "outputs": [
    {
     "name": "stdout",
     "output_type": "stream",
     "text": [
      "         104 function calls in 0.002 seconds\n",
      "\n",
      "   Ordered by: standard name\n",
      "\n",
      "   ncalls  tottime  percall  cumtime  percall filename:lineno(function)\n",
      "      100    0.001    0.000    0.001    0.000 <ipython-input-63-cb866bedc2b9>:4(gradient)\n",
      "        1    0.001    0.001    0.002    0.002 <ipython-input-80-129678e9b218>:1(simpleGD)\n",
      "        1    0.000    0.000    0.002    0.002 <string>:1(<module>)\n",
      "        1    0.000    0.000    0.000    0.000 {method 'disable' of '_lsprof.Profiler' objects}\n",
      "        1    0.000    0.000    0.000    0.000 {range}\n",
      "\n",
      "\n",
      "         203 function calls in 0.002 seconds\n",
      "\n",
      "   Ordered by: standard name\n",
      "\n",
      "   ncalls  tottime  percall  cumtime  percall filename:lineno(function)\n",
      "      100    0.001    0.000    0.001    0.000 <ipython-input-63-cb866bedc2b9>:4(gradient)\n",
      "      101    0.001    0.000    0.002    0.000 <ipython-input-80-129678e9b218>:7(_simpleGD)\n",
      "        1    0.000    0.000    0.002    0.002 <string>:1(<module>)\n",
      "        1    0.000    0.000    0.000    0.000 {method 'disable' of '_lsprof.Profiler' objects}\n",
      "\n",
      "\n",
      "         105 function calls in 0.001 seconds\n",
      "\n",
      "   Ordered by: standard name\n",
      "\n",
      "   ncalls  tottime  percall  cumtime  percall filename:lineno(function)\n",
      "      100    0.001    0.000    0.001    0.000 <ipython-input-63-cb866bedc2b9>:4(gradient)\n",
      "        1    0.000    0.000    0.001    0.001 <ipython-input-80-129678e9b218>:13(simpleGD2)\n",
      "        1    0.000    0.000    0.001    0.001 <string>:1(<module>)\n",
      "        1    0.000    0.000    0.000    0.000 {method 'disable' of '_lsprof.Profiler' objects}\n",
      "        1    0.000    0.000    0.000    0.000 {numpy.core.multiarray.zeros}\n",
      "        1    0.000    0.000    0.000    0.000 {range}\n",
      "\n",
      "\n"
     ]
    }
   ],
   "source": [
    "cProfile.run('simpleGD(3, 0.1, 100)')\n",
    "cProfile.run('[i for i in _simpleGD(3, 0.1, 100)]')\n",
    "cProfile.run('simpleGD2(3, 0.1, 100)')"
   ]
  },
  {
   "cell_type": "markdown",
   "metadata": {},
   "source": [
    "Simple inspection of the figure above shows that that is close enough to the actual true minimum ($x^\\star=0$)"
   ]
  },
  {
   "cell_type": "markdown",
   "metadata": {},
   "source": [
    "A few standard situations:"
   ]
  },
  {
   "cell_type": "code",
   "execution_count": 91,
   "metadata": {
    "collapsed": false
   },
   "outputs": [
    {
     "data": {
      "text/plain": [
       "1.8979923274468094e-11"
      ]
     },
     "execution_count": 91,
     "metadata": {},
     "output_type": "execute_result"
    }
   ],
   "source": [
    "# Try the second given values \n",
    "simpleGD(4, 0.1, 100)"
   ]
  },
  {
   "cell_type": "markdown",
   "metadata": {},
   "source": [
    "Ok! so that's still alright"
   ]
  },
  {
   "cell_type": "code",
   "execution_count": 99,
   "metadata": {
    "collapsed": false
   },
   "outputs": [
    {
     "data": {
      "text/plain": [
       "9.4607101235955193e-08"
      ]
     },
     "execution_count": 99,
     "metadata": {},
     "output_type": "execute_result"
    }
   ],
   "source": [
    "# Try the third given values \n",
    "simpleGD(8, 0.1, 100)"
   ]
  },
  {
   "cell_type": "code",
   "execution_count": 98,
   "metadata": {
    "collapsed": false
   },
   "outputs": [
    {
     "data": {
      "text/plain": [
       "[<matplotlib.lines.Line2D at 0x7f6f9e674f90>]"
      ]
     },
     "execution_count": 98,
     "metadata": {},
     "output_type": "execute_result"
    },
    {
     "data": {
      "image/png": "[encoded data removed]",
      "text/plain": [
       "<matplotlib.figure.Figure at 0x7f6f9e6d1f10>"
      ]
     },
     "metadata": {},
     "output_type": "display_data"
    }
   ],
   "source": [
    "pl.plot(xrange(1,11), [simpleGD(o, 0.1, 100) for o in xrange(1,11)])"
   ]
  },
  {
   "cell_type": "markdown",
   "metadata": {},
   "source": [
    "That's not... Visual inspection of the figure above shows that we got stuck in a local optimum.\n",
    "\n",
    "Below we define a simple visualization function to show where the GD algorithm brings us. It can be overlooked."
   ]
  },
  {
   "cell_type": "code",
   "execution_count": 112,
   "metadata": {
    "collapsed": true
   },
   "outputs": [],
   "source": [
    "def viz(x,a=-10,b=10, ax=None):\n",
    "    xx  = np.linspace(a,b,100)\n",
    "    yy  = function(xx)\n",
    "    ygd = function(x)\n",
    "    ax.plot(xx,yy)\n",
    "    ax.plot(x,ygd,color='red')\n",
    "    ax.plot(x[0],ygd[0],marker='o',color='green',markersize=10)\n",
    "    ax.plot(x[len(x)-1],ygd[len(x)-1],marker='o',color='red',markersize=10)\n"
   ]
  },
  {
   "cell_type": "markdown",
   "metadata": {},
   "source": [
    "Let's show the steps that were taken in the various cases that we considered above"
   ]
  },
  {
   "cell_type": "code",
   "execution_count": 113,
   "metadata": {
    "collapsed": false
   },
   "outputs": [
    {
     "data": {
      "image/png": "[encoded data removed]",
      "text/plain": [
       "<matplotlib.figure.Figure at 0x7f6f9d6d7b50>"
      ]
     },
     "metadata": {},
     "output_type": "display_data"
    }
   ],
   "source": [
    "# Visualise the steps taken in the previous cases \n",
    "x1 = simpleGD2(3,0.1,100)\n",
    "x2 = simpleGD2(6,0.1,100)\n",
    "x3 = simpleGD2(8,0.01,100)\n",
    "x4 = simpleGD2(3,0.5,100)\n",
    "f=pl.figure()\n",
    "viz(x1, ax=f.add_subplot(221))\n",
    "viz(x2, ax=f.add_subplot(222))\n",
    "viz(x3, ax=f.add_subplot(223))\n",
    "viz(x4, ax=f.add_subplot(224))"
   ]
  },
  {
   "cell_type": "markdown",
   "metadata": {},
   "source": [
    "To summarise these three cases: \n",
    "- In the first case, we start from a sensible point (not far from the optimal value $x^\\star = 0$ and on a slope that leads directly to it) and we get to a very satisfactory point.\n",
    "- In the second case, we start from a less sensible point (on a slope that does not lead directly to it) and yet the algorithm still gets us to a very satisfactory point.\n",
    "- In the third case, we also start from a bad location but this time the algorithm gets stuck in a local minima.\n"
   ]
  },
  {
   "cell_type": "markdown",
   "metadata": {},
   "source": [
    "# Attacking MNIST"
   ]
  },
  {
   "cell_type": "markdown",
   "metadata": {},
   "source": [
    "### Learning Activity 7: Loading the Python libraries"
   ]
  },
  {
   "cell_type": "markdown",
   "metadata": {},
   "source": [
    "Import statements for KERAS library"
   ]
  },
  {
   "cell_type": "code",
   "execution_count": 114,
   "metadata": {
    "collapsed": false
   },
   "outputs": [
    {
     "name": "stderr",
     "output_type": "stream",
     "text": [
      "Using Theano backend.\n"
     ]
    }
   ],
   "source": [
    "from keras.datasets import mnist \n",
    "from keras.models import Sequential \n",
    "from keras.layers.core import Dense, Activation\n",
    "from keras.optimizers import SGD, RMSprop\n",
    "from keras.utils import np_utils\n",
    "\n",
    "# Some generic parameters for the learning process\n",
    "batch_size = 100   # number of instances each noisy gradient will be evaluated upon\n",
    "nb_classes = 10    # 10 classes 0-1-...-9\n",
    "nb_epoch   = 10    # computational budget: 10 passes through the whole dataset"
   ]
  },
  {
   "cell_type": "markdown",
   "metadata": {},
   "source": [
    "### Learning Activity 8: Loading the MNIST dataset"
   ]
  },
  {
   "cell_type": "markdown",
   "metadata": {},
   "source": [
    "Keras does the loading of the data itself and shuffles the data randomly. This is useful since the difficulty\n",
    "of the examples in the dataset is not uniform (the last examples are harder than the first ones)"
   ]
  },
  {
   "cell_type": "code",
   "execution_count": 122,
   "metadata": {
    "collapsed": false
   },
   "outputs": [],
   "source": [
    "# Load the MNIST data using mnist.load_data, store it in (images_train,labels_train)\n",
    "import cPickle\n",
    "with open('/day2/datasets/mnist.pkl') as f:\n",
    "    #(X_train, y_train), (X_test, y_test) = cPickle.load(f, encoding=\"bytes\") py>3\n",
    "    (images_train, labels_train), (images_test, labels_test) = cPickle.load(f)"
   ]
  },
  {
   "cell_type": "markdown",
   "metadata": {},
   "source": [
    "You can also depict a sample from either the training or the test set using the `imshow()` function:"
   ]
  },
  {
   "cell_type": "code",
   "execution_count": 124,
   "metadata": {
    "collapsed": false
   },
   "outputs": [
    {
     "data": {
      "text/plain": [
       "<matplotlib.image.AxesImage at 0x7f6f9dd82e90>"
      ]
     },
     "execution_count": 124,
     "metadata": {},
     "output_type": "execute_result"
    },
    {
     "data": {
      "image/png": "[encoded data removed]",
      "text/plain": [
       "<matplotlib.figure.Figure at 0x7f6f9dfce1d0>"
      ]
     },
     "metadata": {},
     "output_type": "display_data"
    }
   ],
   "source": [
    "# Display the first image using imshow\n",
    "pl.imshow(images_train[100,], cmap=\"gray\")"
   ]
  },
  {
   "cell_type": "markdown",
   "metadata": {},
   "source": [
    "Ok the label 5 does indeed seem to correspond to that number!\n",
    "Let's check the dimension of the dataset"
   ]
  },
  {
   "cell_type": "markdown",
   "metadata": {},
   "source": [
    "### Learning Activity 9: Reshaping the dataset\n",
    "\n",
    "\n",
    "Each image in MNIST has 28 by 28 pixels, which results in a $28\\times 28$ array. As a next step, and prior to feeding the data into our NN classifier, we needd to flatten each array into a $28\\times 28$=784 dimensional vector. Each component of the vector holds an integer value between 0 (black) and 255 (white), which we need to normalise to the range 0 and 1."
   ]
  },
  {
   "cell_type": "code",
   "execution_count": 129,
   "metadata": {
    "collapsed": false
   },
   "outputs": [
    {
     "name": "stdout",
     "output_type": "stream",
     "text": [
      "Help on function reshape in module numpy.core.fromnumeric:\n",
      "\n",
      "reshape(a, newshape, order='C')\n",
      "    Gives a new shape to an array without changing its data.\n",
      "    \n",
      "    Parameters\n",
      "    ----------\n",
      "    a : array_like\n",
      "        Array to be reshaped.\n",
      "    newshape : int or tuple of ints\n",
      "        The new shape should be compatible with the original shape. If\n",
      "        an integer, then the result will be a 1-D array of that length.\n",
      "        One shape dimension can be -1. In this case, the value is inferred\n",
      "        from the length of the array and remaining dimensions.\n",
      "    order : {'C', 'F', 'A'}, optional\n",
      "        Read the elements of `a` using this index order, and place the elements\n",
      "        into the reshaped array using this index order.  'C' means to\n",
      "        read / write the elements using C-like index order, with the last axis\n",
      "        index changing fastest, back to the first axis index changing slowest.\n",
      "        'F' means to read / write the elements using Fortran-like index order,\n",
      "        with the first index changing fastest, and the last index changing\n",
      "        slowest.\n",
      "        Note that the 'C' and 'F' options take no account of the memory layout\n",
      "        of the underlying array, and only refer to the order of indexing.  'A'\n",
      "        means to read / write the elements in Fortran-like index order if `a`\n",
      "        is Fortran *contiguous* in memory, C-like order otherwise.\n",
      "    \n",
      "    Returns\n",
      "    -------\n",
      "    reshaped_array : ndarray\n",
      "        This will be a new view object if possible; otherwise, it will\n",
      "        be a copy.  Note there is no guarantee of the *memory layout* (C- or\n",
      "        Fortran- contiguous) of the returned array.\n",
      "    \n",
      "    See Also\n",
      "    --------\n",
      "    ndarray.reshape : Equivalent method.\n",
      "    \n",
      "    Notes\n",
      "    -----\n",
      "    It is not always possible to change the shape of an array without\n",
      "    copying the data. If you want an error to be raise if the data is copied,\n",
      "    you should assign the new shape to the shape attribute of the array::\n",
      "    \n",
      "     >>> a = np.zeros((10, 2))\n",
      "     # A transpose make the array non-contiguous\n",
      "     >>> b = a.T\n",
      "     # Taking a view makes it possible to modify the shape without modifying\n",
      "     # the initial object.\n",
      "     >>> c = b.view()\n",
      "     >>> c.shape = (20)\n",
      "     AttributeError: incompatible shape for a non-contiguous array\n",
      "    \n",
      "    The `order` keyword gives the index ordering both for *fetching* the values\n",
      "    from `a`, and then *placing* the values into the output array.\n",
      "    For example, let's say you have an array:\n",
      "    \n",
      "    >>> a = np.arange(6).reshape((3, 2))\n",
      "    >>> a\n",
      "    array([[0, 1],\n",
      "           [2, 3],\n",
      "           [4, 5]])\n",
      "    \n",
      "    You can think of reshaping as first raveling the array (using the given\n",
      "    index order), then inserting the elements from the raveled array into the\n",
      "    new array using the same kind of index ordering as was used for the\n",
      "    raveling.\n",
      "    \n",
      "    >>> np.reshape(a, (2, 3)) # C-like index ordering\n",
      "    array([[0, 1, 2],\n",
      "           [3, 4, 5]])\n",
      "    >>> np.reshape(np.ravel(a), (2, 3)) # equivalent to C ravel then C reshape\n",
      "    array([[0, 1, 2],\n",
      "           [3, 4, 5]])\n",
      "    >>> np.reshape(a, (2, 3), order='F') # Fortran-like index ordering\n",
      "    array([[0, 4, 3],\n",
      "           [2, 1, 5]])\n",
      "    >>> np.reshape(np.ravel(a, order='F'), (2, 3), order='F')\n",
      "    array([[0, 4, 3],\n",
      "           [2, 1, 5]])\n",
      "    \n",
      "    Examples\n",
      "    --------\n",
      "    >>> a = np.array([[1,2,3], [4,5,6]])\n",
      "    >>> np.reshape(a, 6)\n",
      "    array([1, 2, 3, 4, 5, 6])\n",
      "    >>> np.reshape(a, 6, order='F')\n",
      "    array([1, 4, 2, 5, 3, 6])\n",
      "    \n",
      "    >>> np.reshape(a, (3,-1))       # the unspecified value is inferred to be 2\n",
      "    array([[1, 2],\n",
      "           [3, 4],\n",
      "           [5, 6]])\n",
      "\n"
     ]
    }
   ],
   "source": [
    "# Reshaping of vectors in a format that works with the way the layers are coded.\n",
    "# the aim is to reshape the training and test sets as matrices of size N*784 where N is the number of instances\n",
    "# (60000 for train, 10000 for test) and 784 pixels. Use the command reshape for this. We also need to convert\n",
    "# the values in 'float32' (they are stored in another format), use the command astype for this. Finally \n",
    "# we need to normalise the values to be between [0,1] (they are stored as a value between 0 and 255). \n",
    "help(np.reshape)"
   ]
  },
  {
   "cell_type": "code",
   "execution_count": 138,
   "metadata": {
    "collapsed": false
   },
   "outputs": [
    {
     "data": {
      "text/plain": [
       "<matplotlib.image.AxesImage at 0x7f6f9e26cad0>"
      ]
     },
     "execution_count": 138,
     "metadata": {},
     "output_type": "execute_result"
    },
    {
     "data": {
      "image/png": "[encoded data removed]",
      "text/plain": [
       "<matplotlib.figure.Figure at 0x7f6f9dd86f90>"
      ]
     },
     "metadata": {},
     "output_type": "display_data"
    }
   ],
   "source": [
    "arr = np.array([[0,1],[1,2]], dtype=np.float64)\n",
    "pl.imshow(arr, interpolation=\"nearest\")"
   ]
  },
  {
   "cell_type": "code",
   "execution_count": 141,
   "metadata": {
    "collapsed": false
   },
   "outputs": [
    {
     "data": {
      "text/plain": [
       "<matplotlib.image.AxesImage at 0x7f6f93a5a9d0>"
      ]
     },
     "execution_count": 141,
     "metadata": {},
     "output_type": "execute_result"
    },
    {
     "data": {
      "image/png": "[encoded data removed]",
      "text/plain": [
       "<matplotlib.figure.Figure at 0x7f6f9de135d0>"
      ]
     },
     "metadata": {},
     "output_type": "display_data"
    }
   ],
   "source": [
    "pl.imshow(arr.reshape(4,1), interpolation=\"nearest\")"
   ]
  },
  {
   "cell_type": "markdown",
   "metadata": {},
   "source": [
    "\n",
    "Remember, it is always good practice to check the dimensionality of your _train_ and _test_ data using the `shape` command prior to constructing any classification model:\n"
   ]
  },
  {
   "cell_type": "code",
   "execution_count": 162,
   "metadata": {
    "collapsed": false
   },
   "outputs": [],
   "source": [
    "import operator\n",
    "images_train_reshaped = [img.reshape(operator.mul(*img.shape),1) for img in images_train]\n",
    "images_test_reshaped = [img.reshape(operator.mul(*img.shape),1) for img in images_test]\n"
   ]
  },
  {
   "cell_type": "code",
   "execution_count": 165,
   "metadata": {
    "collapsed": false
   },
   "outputs": [
    {
     "data": {
      "text/plain": [
       "[(784, 1),\n",
       " (784, 1),\n",
       " (784, 1),\n",
       " (784, 1),\n",
       " (784, 1),\n",
       " (784, 1),\n",
       " (784, 1),\n",
       " (784, 1),\n",
       " (784, 1),\n",
       " (784, 1),\n",
       " (784, 1),\n",
       " (784, 1),\n",
       " (784, 1),\n",
       " (784, 1),\n",
       " (784, 1),\n",
       " (784, 1),\n",
       " (784, 1),\n",
       " (784, 1),\n",
       " (784, 1),\n",
       " (784, 1),\n",
       " (784, 1),\n",
       " (784, 1),\n",
       " (784, 1),\n",
       " (784, 1),\n",
       " (784, 1),\n",
       " (784, 1),\n",
       " (784, 1),\n",
       " (784, 1),\n",
       " (784, 1),\n",
       " (784, 1),\n",
       " (784, 1),\n",
       " (784, 1),\n",
       " (784, 1),\n",
       " (784, 1),\n",
       " (784, 1),\n",
       " (784, 1),\n",
       " (784, 1),\n",
       " (784, 1),\n",
       " (784, 1),\n",
       " (784, 1),\n",
       " (784, 1),\n",
       " (784, 1),\n",
       " (784, 1),\n",
       " (784, 1),\n",
       " (784, 1),\n",
       " (784, 1),\n",
       " (784, 1),\n",
       " (784, 1),\n",
       " (784, 1),\n",
       " (784, 1),\n",
       " (784, 1),\n",
       " (784, 1),\n",
       " (784, 1),\n",
       " (784, 1),\n",
       " (784, 1),\n",
       " (784, 1),\n",
       " (784, 1),\n",
       " (784, 1),\n",
       " (784, 1),\n",
       " (784, 1),\n",
       " (784, 1),\n",
       " (784, 1),\n",
       " (784, 1),\n",
       " (784, 1),\n",
       " (784, 1),\n",
       " (784, 1),\n",
       " (784, 1),\n",
       " (784, 1),\n",
       " (784, 1),\n",
       " (784, 1),\n",
       " (784, 1),\n",
       " (784, 1),\n",
       " (784, 1),\n",
       " (784, 1),\n",
       " (784, 1),\n",
       " (784, 1),\n",
       " (784, 1),\n",
       " (784, 1),\n",
       " (784, 1),\n",
       " (784, 1),\n",
       " (784, 1),\n",
       " (784, 1),\n",
       " (784, 1),\n",
       " (784, 1),\n",
       " (784, 1),\n",
       " (784, 1),\n",
       " (784, 1),\n",
       " (784, 1),\n",
       " (784, 1),\n",
       " (784, 1),\n",
       " (784, 1),\n",
       " (784, 1),\n",
       " (784, 1),\n",
       " (784, 1),\n",
       " (784, 1),\n",
       " (784, 1),\n",
       " (784, 1),\n",
       " (784, 1),\n",
       " (784, 1),\n",
       " (784, 1),\n",
       " (784, 1),\n",
       " (784, 1),\n",
       " (784, 1),\n",
       " (784, 1),\n",
       " (784, 1),\n",
       " (784, 1),\n",
       " (784, 1),\n",
       " (784, 1),\n",
       " (784, 1),\n",
       " (784, 1),\n",
       " (784, 1),\n",
       " (784, 1),\n",
       " (784, 1),\n",
       " (784, 1),\n",
       " (784, 1),\n",
       " (784, 1),\n",
       " (784, 1),\n",
       " (784, 1),\n",
       " (784, 1),\n",
       " (784, 1),\n",
       " (784, 1),\n",
       " (784, 1),\n",
       " (784, 1),\n",
       " (784, 1),\n",
       " (784, 1),\n",
       " (784, 1),\n",
       " (784, 1),\n",
       " (784, 1),\n",
       " (784, 1),\n",
       " (784, 1),\n",
       " (784, 1),\n",
       " (784, 1),\n",
       " (784, 1),\n",
       " (784, 1),\n",
       " (784, 1),\n",
       " (784, 1),\n",
       " (784, 1),\n",
       " (784, 1),\n",
       " (784, 1),\n",
       " (784, 1),\n",
       " (784, 1),\n",
       " (784, 1),\n",
       " (784, 1),\n",
       " (784, 1),\n",
       " (784, 1),\n",
       " (784, 1),\n",
       " (784, 1),\n",
       " (784, 1),\n",
       " (784, 1),\n",
       " (784, 1),\n",
       " (784, 1),\n",
       " (784, 1),\n",
       " (784, 1),\n",
       " (784, 1),\n",
       " (784, 1),\n",
       " (784, 1),\n",
       " (784, 1),\n",
       " (784, 1),\n",
       " (784, 1),\n",
       " (784, 1),\n",
       " (784, 1),\n",
       " (784, 1),\n",
       " (784, 1),\n",
       " (784, 1),\n",
       " (784, 1),\n",
       " (784, 1),\n",
       " (784, 1),\n",
       " (784, 1),\n",
       " (784, 1),\n",
       " (784, 1),\n",
       " (784, 1),\n",
       " (784, 1),\n",
       " (784, 1),\n",
       " (784, 1),\n",
       " (784, 1),\n",
       " (784, 1),\n",
       " (784, 1),\n",
       " (784, 1),\n",
       " (784, 1),\n",
       " (784, 1),\n",
       " (784, 1),\n",
       " (784, 1),\n",
       " (784, 1),\n",
       " (784, 1),\n",
       " (784, 1),\n",
       " (784, 1),\n",
       " (784, 1),\n",
       " (784, 1),\n",
       " (784, 1),\n",
       " (784, 1),\n",
       " (784, 1),\n",
       " (784, 1),\n",
       " (784, 1),\n",
       " (784, 1),\n",
       " (784, 1),\n",
       " (784, 1),\n",
       " (784, 1),\n",
       " (784, 1),\n",
       " (784, 1),\n",
       " (784, 1),\n",
       " (784, 1),\n",
       " (784, 1),\n",
       " (784, 1),\n",
       " (784, 1),\n",
       " (784, 1),\n",
       " (784, 1),\n",
       " (784, 1),\n",
       " (784, 1),\n",
       " (784, 1),\n",
       " (784, 1),\n",
       " (784, 1),\n",
       " (784, 1),\n",
       " (784, 1),\n",
       " (784, 1),\n",
       " (784, 1),\n",
       " (784, 1),\n",
       " (784, 1),\n",
       " (784, 1),\n",
       " (784, 1),\n",
       " (784, 1),\n",
       " (784, 1),\n",
       " (784, 1),\n",
       " (784, 1),\n",
       " (784, 1),\n",
       " (784, 1),\n",
       " (784, 1),\n",
       " (784, 1),\n",
       " (784, 1),\n",
       " (784, 1),\n",
       " (784, 1),\n",
       " (784, 1),\n",
       " (784, 1),\n",
       " (784, 1),\n",
       " (784, 1),\n",
       " (784, 1),\n",
       " (784, 1),\n",
       " (784, 1),\n",
       " (784, 1),\n",
       " (784, 1),\n",
       " (784, 1),\n",
       " (784, 1),\n",
       " (784, 1),\n",
       " (784, 1),\n",
       " (784, 1),\n",
       " (784, 1),\n",
       " (784, 1),\n",
       " (784, 1),\n",
       " (784, 1),\n",
       " (784, 1),\n",
       " (784, 1),\n",
       " (784, 1),\n",
       " (784, 1),\n",
       " (784, 1),\n",
       " (784, 1),\n",
       " (784, 1),\n",
       " (784, 1),\n",
       " (784, 1),\n",
       " (784, 1),\n",
       " (784, 1),\n",
       " (784, 1),\n",
       " (784, 1),\n",
       " (784, 1),\n",
       " (784, 1),\n",
       " (784, 1),\n",
       " (784, 1),\n",
       " (784, 1),\n",
       " (784, 1),\n",
       " (784, 1),\n",
       " (784, 1),\n",
       " (784, 1),\n",
       " (784, 1),\n",
       " (784, 1),\n",
       " (784, 1),\n",
       " (784, 1),\n",
       " (784, 1),\n",
       " (784, 1),\n",
       " (784, 1),\n",
       " (784, 1),\n",
       " (784, 1),\n",
       " (784, 1),\n",
       " (784, 1),\n",
       " (784, 1),\n",
       " (784, 1),\n",
       " (784, 1),\n",
       " (784, 1),\n",
       " (784, 1),\n",
       " (784, 1),\n",
       " (784, 1),\n",
       " (784, 1),\n",
       " (784, 1),\n",
       " (784, 1),\n",
       " (784, 1),\n",
       " (784, 1),\n",
       " (784, 1),\n",
       " (784, 1),\n",
       " (784, 1),\n",
       " (784, 1),\n",
       " (784, 1),\n",
       " (784, 1),\n",
       " (784, 1),\n",
       " (784, 1),\n",
       " (784, 1),\n",
       " (784, 1),\n",
       " (784, 1),\n",
       " (784, 1),\n",
       " (784, 1),\n",
       " (784, 1),\n",
       " (784, 1),\n",
       " (784, 1),\n",
       " (784, 1),\n",
       " (784, 1),\n",
       " (784, 1),\n",
       " (784, 1),\n",
       " (784, 1),\n",
       " (784, 1),\n",
       " (784, 1),\n",
       " (784, 1),\n",
       " (784, 1),\n",
       " (784, 1),\n",
       " (784, 1),\n",
       " (784, 1),\n",
       " (784, 1),\n",
       " (784, 1),\n",
       " (784, 1),\n",
       " (784, 1),\n",
       " (784, 1),\n",
       " (784, 1),\n",
       " (784, 1),\n",
       " (784, 1),\n",
       " (784, 1),\n",
       " (784, 1),\n",
       " (784, 1),\n",
       " (784, 1),\n",
       " (784, 1),\n",
       " (784, 1),\n",
       " (784, 1),\n",
       " (784, 1),\n",
       " (784, 1),\n",
       " (784, 1),\n",
       " (784, 1),\n",
       " (784, 1),\n",
       " (784, 1),\n",
       " (784, 1),\n",
       " (784, 1),\n",
       " (784, 1),\n",
       " (784, 1),\n",
       " (784, 1),\n",
       " (784, 1),\n",
       " (784, 1),\n",
       " (784, 1),\n",
       " (784, 1),\n",
       " (784, 1),\n",
       " (784, 1),\n",
       " (784, 1),\n",
       " (784, 1),\n",
       " (784, 1),\n",
       " (784, 1),\n",
       " (784, 1),\n",
       " (784, 1),\n",
       " (784, 1),\n",
       " (784, 1),\n",
       " (784, 1),\n",
       " (784, 1),\n",
       " (784, 1),\n",
       " (784, 1),\n",
       " (784, 1),\n",
       " (784, 1),\n",
       " (784, 1),\n",
       " (784, 1),\n",
       " (784, 1),\n",
       " (784, 1),\n",
       " (784, 1),\n",
       " (784, 1),\n",
       " (784, 1),\n",
       " (784, 1),\n",
       " (784, 1),\n",
       " (784, 1),\n",
       " (784, 1),\n",
       " (784, 1),\n",
       " (784, 1),\n",
       " (784, 1),\n",
       " (784, 1),\n",
       " (784, 1),\n",
       " (784, 1),\n",
       " (784, 1),\n",
       " (784, 1),\n",
       " (784, 1),\n",
       " (784, 1),\n",
       " (784, 1),\n",
       " (784, 1),\n",
       " (784, 1),\n",
       " (784, 1),\n",
       " (784, 1),\n",
       " (784, 1),\n",
       " (784, 1),\n",
       " (784, 1),\n",
       " (784, 1),\n",
       " (784, 1),\n",
       " (784, 1),\n",
       " (784, 1),\n",
       " (784, 1),\n",
       " (784, 1),\n",
       " (784, 1),\n",
       " (784, 1),\n",
       " (784, 1),\n",
       " (784, 1),\n",
       " (784, 1),\n",
       " (784, 1),\n",
       " (784, 1),\n",
       " (784, 1),\n",
       " (784, 1),\n",
       " (784, 1),\n",
       " (784, 1),\n",
       " (784, 1),\n",
       " (784, 1),\n",
       " (784, 1),\n",
       " (784, 1),\n",
       " (784, 1),\n",
       " (784, 1),\n",
       " (784, 1),\n",
       " (784, 1),\n",
       " (784, 1),\n",
       " (784, 1),\n",
       " (784, 1),\n",
       " (784, 1),\n",
       " (784, 1),\n",
       " (784, 1),\n",
       " (784, 1),\n",
       " (784, 1),\n",
       " (784, 1),\n",
       " (784, 1),\n",
       " (784, 1),\n",
       " (784, 1),\n",
       " (784, 1),\n",
       " (784, 1),\n",
       " (784, 1),\n",
       " (784, 1),\n",
       " (784, 1),\n",
       " (784, 1),\n",
       " (784, 1),\n",
       " (784, 1),\n",
       " (784, 1),\n",
       " (784, 1),\n",
       " (784, 1),\n",
       " (784, 1),\n",
       " (784, 1),\n",
       " (784, 1),\n",
       " (784, 1),\n",
       " (784, 1),\n",
       " (784, 1),\n",
       " (784, 1),\n",
       " (784, 1),\n",
       " (784, 1),\n",
       " (784, 1),\n",
       " (784, 1),\n",
       " (784, 1),\n",
       " (784, 1),\n",
       " (784, 1),\n",
       " (784, 1),\n",
       " (784, 1),\n",
       " (784, 1),\n",
       " (784, 1),\n",
       " (784, 1),\n",
       " (784, 1),\n",
       " (784, 1),\n",
       " (784, 1),\n",
       " (784, 1),\n",
       " (784, 1),\n",
       " (784, 1),\n",
       " (784, 1),\n",
       " (784, 1),\n",
       " (784, 1),\n",
       " (784, 1),\n",
       " (784, 1),\n",
       " (784, 1),\n",
       " (784, 1),\n",
       " (784, 1),\n",
       " (784, 1),\n",
       " (784, 1),\n",
       " (784, 1),\n",
       " (784, 1),\n",
       " (784, 1),\n",
       " (784, 1),\n",
       " (784, 1),\n",
       " (784, 1),\n",
       " (784, 1),\n",
       " (784, 1),\n",
       " (784, 1),\n",
       " (784, 1),\n",
       " (784, 1),\n",
       " (784, 1),\n",
       " (784, 1),\n",
       " (784, 1),\n",
       " (784, 1),\n",
       " (784, 1),\n",
       " (784, 1),\n",
       " (784, 1),\n",
       " (784, 1),\n",
       " (784, 1),\n",
       " (784, 1),\n",
       " (784, 1),\n",
       " (784, 1),\n",
       " (784, 1),\n",
       " (784, 1),\n",
       " (784, 1),\n",
       " (784, 1),\n",
       " (784, 1),\n",
       " (784, 1),\n",
       " (784, 1),\n",
       " (784, 1),\n",
       " (784, 1),\n",
       " (784, 1),\n",
       " (784, 1),\n",
       " (784, 1),\n",
       " (784, 1),\n",
       " (784, 1),\n",
       " (784, 1),\n",
       " (784, 1),\n",
       " (784, 1),\n",
       " (784, 1),\n",
       " (784, 1),\n",
       " (784, 1),\n",
       " (784, 1),\n",
       " (784, 1),\n",
       " (784, 1),\n",
       " (784, 1),\n",
       " (784, 1),\n",
       " (784, 1),\n",
       " (784, 1),\n",
       " (784, 1),\n",
       " (784, 1),\n",
       " (784, 1),\n",
       " (784, 1),\n",
       " (784, 1),\n",
       " (784, 1),\n",
       " (784, 1),\n",
       " (784, 1),\n",
       " (784, 1),\n",
       " (784, 1),\n",
       " (784, 1),\n",
       " (784, 1),\n",
       " (784, 1),\n",
       " (784, 1),\n",
       " (784, 1),\n",
       " (784, 1),\n",
       " (784, 1),\n",
       " (784, 1),\n",
       " (784, 1),\n",
       " (784, 1),\n",
       " (784, 1),\n",
       " (784, 1),\n",
       " (784, 1),\n",
       " (784, 1),\n",
       " (784, 1),\n",
       " (784, 1),\n",
       " (784, 1),\n",
       " (784, 1),\n",
       " (784, 1),\n",
       " (784, 1),\n",
       " (784, 1),\n",
       " (784, 1),\n",
       " (784, 1),\n",
       " (784, 1),\n",
       " (784, 1),\n",
       " (784, 1),\n",
       " (784, 1),\n",
       " (784, 1),\n",
       " (784, 1),\n",
       " (784, 1),\n",
       " (784, 1),\n",
       " (784, 1),\n",
       " (784, 1),\n",
       " (784, 1),\n",
       " (784, 1),\n",
       " (784, 1),\n",
       " (784, 1),\n",
       " (784, 1),\n",
       " (784, 1),\n",
       " (784, 1),\n",
       " (784, 1),\n",
       " (784, 1),\n",
       " (784, 1),\n",
       " (784, 1),\n",
       " (784, 1),\n",
       " (784, 1),\n",
       " (784, 1),\n",
       " (784, 1),\n",
       " (784, 1),\n",
       " (784, 1),\n",
       " (784, 1),\n",
       " (784, 1),\n",
       " (784, 1),\n",
       " (784, 1),\n",
       " (784, 1),\n",
       " (784, 1),\n",
       " (784, 1),\n",
       " (784, 1),\n",
       " (784, 1),\n",
       " (784, 1),\n",
       " (784, 1),\n",
       " (784, 1),\n",
       " (784, 1),\n",
       " (784, 1),\n",
       " (784, 1),\n",
       " (784, 1),\n",
       " (784, 1),\n",
       " (784, 1),\n",
       " (784, 1),\n",
       " (784, 1),\n",
       " (784, 1),\n",
       " (784, 1),\n",
       " (784, 1),\n",
       " (784, 1),\n",
       " (784, 1),\n",
       " (784, 1),\n",
       " (784, 1),\n",
       " (784, 1),\n",
       " (784, 1),\n",
       " (784, 1),\n",
       " (784, 1),\n",
       " (784, 1),\n",
       " (784, 1),\n",
       " (784, 1),\n",
       " (784, 1),\n",
       " (784, 1),\n",
       " (784, 1),\n",
       " (784, 1),\n",
       " (784, 1),\n",
       " (784, 1),\n",
       " (784, 1),\n",
       " (784, 1),\n",
       " (784, 1),\n",
       " (784, 1),\n",
       " (784, 1),\n",
       " (784, 1),\n",
       " (784, 1),\n",
       " (784, 1),\n",
       " (784, 1),\n",
       " (784, 1),\n",
       " (784, 1),\n",
       " (784, 1),\n",
       " (784, 1),\n",
       " (784, 1),\n",
       " (784, 1),\n",
       " (784, 1),\n",
       " (784, 1),\n",
       " (784, 1),\n",
       " (784, 1),\n",
       " (784, 1),\n",
       " (784, 1),\n",
       " (784, 1),\n",
       " (784, 1),\n",
       " (784, 1),\n",
       " (784, 1),\n",
       " (784, 1),\n",
       " (784, 1),\n",
       " (784, 1),\n",
       " (784, 1),\n",
       " (784, 1),\n",
       " (784, 1),\n",
       " (784, 1),\n",
       " (784, 1),\n",
       " (784, 1),\n",
       " (784, 1),\n",
       " (784, 1),\n",
       " (784, 1),\n",
       " (784, 1),\n",
       " (784, 1),\n",
       " (784, 1),\n",
       " (784, 1),\n",
       " (784, 1),\n",
       " (784, 1),\n",
       " (784, 1),\n",
       " (784, 1),\n",
       " (784, 1),\n",
       " (784, 1),\n",
       " (784, 1),\n",
       " (784, 1),\n",
       " (784, 1),\n",
       " (784, 1),\n",
       " (784, 1),\n",
       " (784, 1),\n",
       " (784, 1),\n",
       " (784, 1),\n",
       " (784, 1),\n",
       " (784, 1),\n",
       " (784, 1),\n",
       " (784, 1),\n",
       " (784, 1),\n",
       " (784, 1),\n",
       " (784, 1),\n",
       " (784, 1),\n",
       " (784, 1),\n",
       " (784, 1),\n",
       " (784, 1),\n",
       " (784, 1),\n",
       " (784, 1),\n",
       " (784, 1),\n",
       " (784, 1),\n",
       " (784, 1),\n",
       " (784, 1),\n",
       " (784, 1),\n",
       " (784, 1),\n",
       " (784, 1),\n",
       " (784, 1),\n",
       " (784, 1),\n",
       " (784, 1),\n",
       " (784, 1),\n",
       " (784, 1),\n",
       " (784, 1),\n",
       " (784, 1),\n",
       " (784, 1),\n",
       " (784, 1),\n",
       " (784, 1),\n",
       " (784, 1),\n",
       " (784, 1),\n",
       " (784, 1),\n",
       " (784, 1),\n",
       " (784, 1),\n",
       " (784, 1),\n",
       " (784, 1),\n",
       " (784, 1),\n",
       " (784, 1),\n",
       " (784, 1),\n",
       " (784, 1),\n",
       " (784, 1),\n",
       " (784, 1),\n",
       " (784, 1),\n",
       " (784, 1),\n",
       " (784, 1),\n",
       " (784, 1),\n",
       " (784, 1),\n",
       " (784, 1),\n",
       " (784, 1),\n",
       " (784, 1),\n",
       " (784, 1),\n",
       " (784, 1),\n",
       " (784, 1),\n",
       " (784, 1),\n",
       " (784, 1),\n",
       " (784, 1),\n",
       " (784, 1),\n",
       " (784, 1),\n",
       " (784, 1),\n",
       " (784, 1),\n",
       " (784, 1),\n",
       " (784, 1),\n",
       " (784, 1),\n",
       " (784, 1),\n",
       " (784, 1),\n",
       " (784, 1),\n",
       " (784, 1),\n",
       " (784, 1),\n",
       " (784, 1),\n",
       " (784, 1),\n",
       " (784, 1),\n",
       " (784, 1),\n",
       " (784, 1),\n",
       " (784, 1),\n",
       " (784, 1),\n",
       " (784, 1),\n",
       " (784, 1),\n",
       " (784, 1),\n",
       " (784, 1),\n",
       " (784, 1),\n",
       " (784, 1),\n",
       " (784, 1),\n",
       " (784, 1),\n",
       " (784, 1),\n",
       " (784, 1),\n",
       " (784, 1),\n",
       " (784, 1),\n",
       " (784, 1),\n",
       " (784, 1),\n",
       " (784, 1),\n",
       " (784, 1),\n",
       " (784, 1),\n",
       " (784, 1),\n",
       " (784, 1),\n",
       " (784, 1),\n",
       " (784, 1),\n",
       " (784, 1),\n",
       " (784, 1),\n",
       " (784, 1),\n",
       " (784, 1),\n",
       " (784, 1),\n",
       " (784, 1),\n",
       " (784, 1),\n",
       " (784, 1),\n",
       " (784, 1),\n",
       " (784, 1),\n",
       " (784, 1),\n",
       " (784, 1),\n",
       " (784, 1),\n",
       " (784, 1),\n",
       " (784, 1),\n",
       " (784, 1),\n",
       " (784, 1),\n",
       " (784, 1),\n",
       " (784, 1),\n",
       " (784, 1),\n",
       " (784, 1),\n",
       " (784, 1),\n",
       " (784, 1),\n",
       " (784, 1),\n",
       " (784, 1),\n",
       " (784, 1),\n",
       " (784, 1),\n",
       " (784, 1),\n",
       " (784, 1),\n",
       " (784, 1),\n",
       " (784, 1),\n",
       " (784, 1),\n",
       " (784, 1),\n",
       " (784, 1),\n",
       " (784, 1),\n",
       " (784, 1),\n",
       " (784, 1),\n",
       " (784, 1),\n",
       " (784, 1),\n",
       " (784, 1),\n",
       " (784, 1),\n",
       " (784, 1),\n",
       " (784, 1),\n",
       " (784, 1),\n",
       " (784, 1),\n",
       " (784, 1),\n",
       " (784, 1),\n",
       " (784, 1),\n",
       " (784, 1),\n",
       " (784, 1),\n",
       " (784, 1),\n",
       " (784, 1),\n",
       " (784, 1),\n",
       " (784, 1),\n",
       " (784, 1),\n",
       " (784, 1),\n",
       " (784, 1),\n",
       " (784, 1),\n",
       " (784, 1),\n",
       " (784, 1),\n",
       " (784, 1),\n",
       " (784, 1),\n",
       " (784, 1),\n",
       " (784, 1),\n",
       " (784, 1),\n",
       " (784, 1),\n",
       " (784, 1),\n",
       " (784, 1),\n",
       " (784, 1),\n",
       " (784, 1),\n",
       " (784, 1),\n",
       " (784, 1),\n",
       " (784, 1),\n",
       " (784, 1),\n",
       " (784, 1),\n",
       " (784, 1),\n",
       " (784, 1),\n",
       " (784, 1),\n",
       " (784, 1),\n",
       " (784, 1),\n",
       " (784, 1),\n",
       " (784, 1),\n",
       " (784, 1),\n",
       " (784, 1),\n",
       " (784, 1),\n",
       " (784, 1),\n",
       " (784, 1),\n",
       " (784, 1),\n",
       " (784, 1),\n",
       " (784, 1),\n",
       " (784, 1),\n",
       " (784, 1),\n",
       " (784, 1),\n",
       " (784, 1),\n",
       " (784, 1),\n",
       " (784, 1),\n",
       " (784, 1),\n",
       " (784, 1),\n",
       " (784, 1),\n",
       " (784, 1),\n",
       " (784, 1),\n",
       " (784, 1),\n",
       " (784, 1),\n",
       " (784, 1),\n",
       " (784, 1),\n",
       " (784, 1),\n",
       " (784, 1),\n",
       " (784, 1),\n",
       " (784, 1),\n",
       " (784, 1),\n",
       " (784, 1),\n",
       " (784, 1),\n",
       " (784, 1),\n",
       " (784, 1),\n",
       " (784, 1),\n",
       " (784, 1),\n",
       " (784, 1),\n",
       " (784, 1),\n",
       " (784, 1),\n",
       " (784, 1),\n",
       " (784, 1),\n",
       " (784, 1),\n",
       " (784, 1),\n",
       " (784, 1),\n",
       " (784, 1),\n",
       " (784, 1),\n",
       " (784, 1),\n",
       " (784, 1),\n",
       " (784, 1),\n",
       " (784, 1),\n",
       " (784, 1),\n",
       " (784, 1),\n",
       " (784, 1),\n",
       " (784, 1),\n",
       " (784, 1),\n",
       " (784, 1),\n",
       " (784, 1),\n",
       " (784, 1),\n",
       " (784, 1),\n",
       " (784, 1),\n",
       " (784, 1),\n",
       " (784, 1),\n",
       " (784, 1),\n",
       " (784, 1),\n",
       " (784, 1),\n",
       " (784, 1),\n",
       " (784, 1),\n",
       " (784, 1),\n",
       " (784, 1),\n",
       " (784, 1),\n",
       " (784, 1),\n",
       " (784, 1),\n",
       " (784, 1),\n",
       " (784, 1),\n",
       " (784, 1),\n",
       " (784, 1),\n",
       " (784, 1),\n",
       " (784, 1),\n",
       " (784, 1),\n",
       " (784, 1),\n",
       " (784, 1),\n",
       " (784, 1),\n",
       " (784, 1),\n",
       " (784, 1),\n",
       " (784, 1),\n",
       " (784, 1),\n",
       " (784, 1),\n",
       " (784, 1),\n",
       " (784, 1),\n",
       " (784, 1),\n",
       " (784, 1),\n",
       " (784, 1),\n",
       " (784, 1),\n",
       " (784, 1),\n",
       " (784, 1),\n",
       " (784, 1),\n",
       " (784, 1),\n",
       " (784, 1),\n",
       " (784, 1),\n",
       " (784, 1),\n",
       " (784, 1),\n",
       " (784, 1),\n",
       " (784, 1),\n",
       " (784, 1),\n",
       " (784, 1),\n",
       " (784, 1),\n",
       " (784, 1),\n",
       " (784, 1),\n",
       " (784, 1),\n",
       " (784, 1),\n",
       " (784, 1),\n",
       " (784, 1),\n",
       " (784, 1),\n",
       " (784, 1),\n",
       " (784, 1),\n",
       " (784, 1),\n",
       " (784, 1),\n",
       " (784, 1),\n",
       " (784, 1),\n",
       " (784, 1),\n",
       " (784, 1),\n",
       " (784, 1),\n",
       " (784, 1),\n",
       " (784, 1),\n",
       " (784, 1),\n",
       " (784, 1),\n",
       " (784, 1),\n",
       " (784, 1),\n",
       " (784, 1),\n",
       " (784, 1),\n",
       " (784, 1),\n",
       " (784, 1),\n",
       " (784, 1),\n",
       " (784, 1),\n",
       " (784, 1),\n",
       " (784, 1),\n",
       " (784, 1),\n",
       " (784, 1),\n",
       " (784, 1),\n",
       " ...]"
      ]
     },
     "execution_count": 165,
     "metadata": {},
     "output_type": "execute_result"
    }
   ],
   "source": [
    "# Check the dimensionality of train and test\n",
    "[image.shape for image in images_train_reshaped]\n",
    "[image.shape for image in images_test_reshaped]"
   ]
  },
  {
   "cell_type": "markdown",
   "metadata": {},
   "source": [
    "So we have 60,000 training samples, 10,000 test samples and the dimension of the samples (instances) are 28x28 arrays. We need to reshape these instances as vectors (of 784=28x28 components). For storage efficiency, the values of the components are stored as Uint8, we need to cast that as float32 so that Keras can deal with them. Finally we normalize the values to the 0-1 range."
   ]
  },
  {
   "cell_type": "markdown",
   "metadata": {},
   "source": [
    "\n",
    "The labels are stored as integer values from 0 to 9. We need to tell Keras that these form the output categories via the function `to_categorical`.\n"
   ]
  },
  {
   "cell_type": "code",
   "execution_count": 171,
   "metadata": {
    "collapsed": false
   },
   "outputs": [],
   "source": [
    "# Set y categorical using np_utils.to_categorical, you need to specify the number of classes.\n",
    "labels_train2 = np_utils.to_categorical(labels_train, nb_classes)\n",
    "labels_test2 = np_utils.to_categorical(labels_test, nb_classes)"
   ]
  },
  {
   "cell_type": "code",
   "execution_count": 176,
   "metadata": {
    "collapsed": false
   },
   "outputs": [
    {
     "data": {
      "text/plain": [
       "array([[ 0.,  0.,  0., ...,  0.,  0.,  0.],\n",
       "       [ 1.,  0.,  0., ...,  0.,  0.,  0.],\n",
       "       [ 0.,  0.,  0., ...,  0.,  0.,  0.],\n",
       "       ..., \n",
       "       [ 0.,  0.,  0., ...,  0.,  0.,  0.],\n",
       "       [ 0.,  0.,  0., ...,  0.,  0.,  0.],\n",
       "       [ 0.,  0.,  0., ...,  0.,  1.,  0.]])"
      ]
     },
     "execution_count": 176,
     "metadata": {},
     "output_type": "execute_result"
    }
   ],
   "source": [
    "labels_train2.min()\n",
    "labels_train2"
   ]
  },
  {
   "cell_type": "markdown",
   "metadata": {},
   "source": [
    "### Learning Activity 10: Building a NN classifier\n",
    "\n",
    "\n",
    "A neural network model consists of artificial neurons arranged in a sequence of layers. Each layer receives a vector of inputs and converts these into some output. The interconnection pattern is \"dense\" meaning it is fully connected to the previous layer. Note that the first hidden layer needs to specify the size of the input which amounts to implicitly having an input layer.\n"
   ]
  },
  {
   "cell_type": "code",
   "execution_count": null,
   "metadata": {
    "collapsed": true
   },
   "outputs": [],
   "source": [
    "# First, declare a model with a sequential architecture using Sequential\n",
    "\n",
    "# Then add using model.add a first layer with 500 nodes and 784 inputs (the pixels of the image)\n",
    "\n",
    "# Define the activation function to use on the nodes of that first layer\n",
    "\n",
    "# Second hidden layer with 300 nodes\n",
    "\n",
    "# Output layer with 10 categories (+using softmax)"
   ]
  },
  {
   "cell_type": "markdown",
   "metadata": {},
   "source": [
    "### Learning Activity 11: Training and testing of the model\n",
    "\n",
    "\n",
    "Here we define a somewhat standard optimizer for NN. It is based on Stochastic Gradient Descent with some standard choice for the annealing.\n"
   ]
  },
  {
   "cell_type": "code",
   "execution_count": null,
   "metadata": {
    "collapsed": false
   },
   "outputs": [],
   "source": [
    "# Definition of the optimizer using the command SGD of Keras, you then need to \"compile\" the model with this optimizer"
   ]
  },
  {
   "cell_type": "markdown",
   "metadata": {},
   "source": [
    "Finding the right arguments here is non trivial  but the choice suggested here will work well. The only parameter we can explain here is the first one which can be understood as an initial scaling of the gradients. \n"
   ]
  },
  {
   "cell_type": "markdown",
   "metadata": {},
   "source": [
    "At this stage, launch the learning (fit the model). The `model.fit` function takes all the necessary arguments and trains the model. We describe below what these arguments are:\n",
    "\n",
    "- the training set (points and labels)\n",
    "- global parameters for the learning (batch size and number of epochs)\n",
    "- whether or not we want to show output during the learning\n",
    "- the test set (points and labels)"
   ]
  },
  {
   "cell_type": "code",
   "execution_count": null,
   "metadata": {
    "collapsed": false
   },
   "outputs": [],
   "source": [
    "# Fit the model"
   ]
  },
  {
   "cell_type": "markdown",
   "metadata": {},
   "source": [
    "\n",
    "Obviously we care far more about the results on the validation set since it is the data that the NN has not used for its training. Good results on the test set means the model is robust.\n",
    "\n"
   ]
  },
  {
   "cell_type": "code",
   "execution_count": null,
   "metadata": {
    "collapsed": false
   },
   "outputs": [],
   "source": [
    "# Display the results, the accuracy (over the test set) should be in the 98%"
   ]
  },
  {
   "cell_type": "markdown",
   "metadata": {},
   "source": [
    "### Bonus: Does it work?"
   ]
  },
  {
   "cell_type": "code",
   "execution_count": null,
   "metadata": {
    "collapsed": false
   },
   "outputs": [],
   "source": [
    "def whatAmI(img):\n",
    "    score = model.predict(img,batch_size=1,verbose=0)\n",
    "    for s in range(0,10):\n",
    "        print ('Am I a ', s, '? -- score: ', np.around(score[0][s]*100,3))"
   ]
  },
  {
   "cell_type": "code",
   "execution_count": null,
   "metadata": {
    "collapsed": false
   },
   "outputs": [],
   "source": [
    "index = 1004 # here use anything between 0 and 9999\n",
    "test  = np.reshape(images_train[index,],(1,784))\n",
    "plt.imshow(np.reshape(test,(28,28)), cmap=\"gray\")\n",
    "whatAmI(test)\n"
   ]
  },
  {
   "cell_type": "markdown",
   "metadata": {},
   "source": [
    "### Does it work? (experimental Pt2)"
   ]
  },
  {
   "cell_type": "code",
   "execution_count": null,
   "metadata": {
    "collapsed": true
   },
   "outputs": [],
   "source": [
    "from scipy import misc"
   ]
  },
  {
   "cell_type": "code",
   "execution_count": null,
   "metadata": {
    "collapsed": false
   },
   "outputs": [],
   "source": [
    "test  = misc.imread('data/ex7.jpg')\n",
    "test  = np.reshape(test,(1,784))\n",
    "test  = test.astype('float32')\n",
    "test /= 255.\n",
    "plt.imshow(np.reshape(test,(28,28)), cmap=\"gray\")\n",
    "whatAmI(test)"
   ]
  },
  {
   "cell_type": "code",
   "execution_count": 75,
   "metadata": {
    "collapsed": true
   },
   "outputs": [],
   "source": [
    "import cProfile"
   ]
  },
  {
   "cell_type": "code",
   "execution_count": null,
   "metadata": {
    "collapsed": true
   },
   "outputs": [],
   "source": []
  }
 ],
 "metadata": {
  "kernelspec": {
   "display_name": "Python 2",
   "language": "python",
   "name": "python2"
  },
  "language_info": {
   "codemirror_mode": {
    "name": "ipython",
    "version": 2
   },
   "file_extension": ".py",
   "mimetype": "text/x-python",
   "name": "python",
   "nbconvert_exporter": "python",
   "pygments_lexer": "ipython2",
   "version": "2.7.11+"
  }
 },
 "nbformat": 4,
 "nbformat_minor": 0
}
